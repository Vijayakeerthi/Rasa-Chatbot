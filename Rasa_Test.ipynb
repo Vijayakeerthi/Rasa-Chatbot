{
 "cells": [
  {
   "cell_type": "code",
   "execution_count": 4,
   "metadata": {},
   "outputs": [
    {
     "name": "stdout",
     "output_type": "stream",
     "text": [
      "Event loop ready.\n"
     ]
    }
   ],
   "source": [
    "import nest_asyncio\n",
    "\n",
    "nest_asyncio.apply()\n",
    "print(\"Event loop ready.\")"
   ]
  },
  {
   "cell_type": "code",
   "execution_count": 5,
   "metadata": {},
   "outputs": [
    {
     "name": "stdout",
     "output_type": "stream",
     "text": [
      "['actions.py', 'config.yml', 'credentials.yml', 'data', 'domain.yml', 'endpoints.yml', 'tests', '__init__.py', '__pycache__']\n"
     ]
    }
   ],
   "source": [
    "from rasa.cli.scaffold import create_initial_project\n",
    "import os\n",
    "\n",
    "project = \"test-project\"\n",
    "create_initial_project(project)\n",
    "\n",
    "# move into project directory and show files\n",
    "os.chdir(project)\n",
    "print(os.listdir(\".\"))"
   ]
  },
  {
   "cell_type": "code",
   "execution_count": 6,
   "metadata": {},
   "outputs": [
    {
     "name": "stdout",
     "output_type": "stream",
     "text": [
      "config.yml data/ domain.yml models/\n"
     ]
    }
   ],
   "source": [
    "config = \"config.yml\"\n",
    "training_files = \"data/\"\n",
    "domain = \"domain.yml\"\n",
    "output = \"models/\"\n",
    "print(config, training_files, domain, output)"
   ]
  },
  {
   "cell_type": "code",
   "execution_count": 7,
   "metadata": {},
   "outputs": [
    {
     "name": "stdout",
     "output_type": "stream",
     "text": [
      "Training Core model...\n"
     ]
    },
    {
     "name": "stderr",
     "output_type": "stream",
     "text": [
      "Processed Story Blocks: 100%|█████████████████████████████████████████████| 5/5 [00:00<00:00, 501.30it/s, # trackers=1]\n",
      "Processed Story Blocks: 100%|█████████████████████████████████████████████| 5/5 [00:00<00:00, 358.07it/s, # trackers=5]\n",
      "Processed Story Blocks: 100%|████████████████████████████████████████████| 5/5 [00:00<00:00, 212.26it/s, # trackers=20]\n",
      "Processed Story Blocks: 100%|████████████████████████████████████████████| 5/5 [00:00<00:00, 166.36it/s, # trackers=24]\n",
      "Processed trackers: 100%|█████████████████████████████████████████████████| 5/5 [00:00<00:00, 128.55it/s, # actions=16]\n",
      "Processed actions: 16it [00:00, 668.47it/s, # examples=16]\n",
      "Processed trackers: 100%|█████████████████████████████████████████████| 231/231 [00:05<00:00, 45.63it/s, # actions=126]\n",
      "Epochs: 100%|███████████████████████████████████| 100/100 [00:11<00:00,  8.60it/s, t_loss=0.072, loss=0.004, acc=1.000]\n"
     ]
    },
    {
     "name": "stdout",
     "output_type": "stream",
     "text": [
      "Core model training completed.\n",
      "Training NLU model...\n"
     ]
    },
    {
     "name": "stderr",
     "output_type": "stream",
     "text": [
      "Epochs: 100%|█████| 100/100 [00:13<00:00,  7.91it/s, t_loss=1.527, i_loss=0.168, e_loss=0.000, i_acc=1.000, e_f1=0.000]\n"
     ]
    },
    {
     "name": "stdout",
     "output_type": "stream",
     "text": [
      "NLU model training completed.\n",
      "Your Rasa model is trained and saved at 'C:\\Users\\user\\test-project\\test-project\\models\\20200326-173557.tar.gz'.\n",
      "models/20200326-173557.tar.gz\n"
     ]
    }
   ],
   "source": [
    "import rasa\n",
    "\n",
    "model_path = rasa.train(domain, config, [training_files], output)\n",
    "print(model_path)"
   ]
  },
  {
   "cell_type": "code",
   "execution_count": 8,
   "metadata": {},
   "outputs": [
    {
     "name": "stdout",
     "output_type": "stream",
     "text": [
      "WARNING:tensorflow:From C:\\Users\\user\\AnacondaProjects\\envs\\gpuenv\\lib\\site-packages\\tensorflow_core\\python\\ops\\array_grad.py:563: _EagerTensorBase.cpu (from tensorflow.python.framework.ops) is deprecated and will be removed in a future version.\n",
      "Instructions for updating:\n",
      "Use tf.identity instead.\n",
      "Your bot is ready to talk! Type your messages here or send '/stop'.\n",
      "hi\n",
      "Hey! How are you?\n",
      "i am good . thanks\n",
      "Great, carry on!\n",
      "/stop\n"
     ]
    }
   ],
   "source": [
    "from rasa.jupyter import chat\n",
    "chat(model_path)"
   ]
  }
 ],
 "metadata": {
  "kernelspec": {
   "display_name": "Python 3",
   "language": "python",
   "name": "python3"
  },
  "language_info": {
   "codemirror_mode": {
    "name": "ipython",
    "version": 3
   },
   "file_extension": ".py",
   "mimetype": "text/x-python",
   "name": "python",
   "nbconvert_exporter": "python",
   "pygments_lexer": "ipython3",
   "version": "3.6.7"
  }
 },
 "nbformat": 4,
 "nbformat_minor": 2
}
